{
  "nbformat": 4,
  "nbformat_minor": 0,
  "metadata": {
    "colab": {
      "name": "data.ipynb",
      "provenance": [],
      "authorship_tag": "ABX9TyNLSXOfgh/nj7dmu8EjkWs+",
      "include_colab_link": true
    },
    "kernelspec": {
      "name": "python3",
      "display_name": "Python 3"
    },
    "language_info": {
      "name": "python"
    }
  },
  "cells": [
    {
      "cell_type": "markdown",
      "metadata": {
        "id": "view-in-github",
        "colab_type": "text"
      },
      "source": [
        "<a href=\"https://colab.research.google.com/github/MDfahad2001/Data-Visualization/blob/main/data.ipynb\" target=\"_parent\"><img src=\"https://colab.research.google.com/assets/colab-badge.svg\" alt=\"Open In Colab\"/></a>"
      ]
    },
    {
      "cell_type": "code",
      "execution_count": 1,
      "metadata": {
        "colab": {
          "base_uri": "https://localhost:8080/",
          "height": 130
        },
        "id": "cDkgjoFjOxTy",
        "outputId": "e51b67aa-9233-49bd-adcd-1efc348bfe2e"
      },
      "outputs": [
        {
          "output_type": "error",
          "ename": "IndentationError",
          "evalue": "ignored",
          "traceback": [
            "\u001b[0;36m  File \u001b[0;32m\"<ipython-input-1-292672c7ea56>\"\u001b[0;36m, line \u001b[0;32m2\u001b[0m\n\u001b[0;31m    import pandas as pd\u001b[0m\n\u001b[0m    ^\u001b[0m\n\u001b[0;31mIndentationError\u001b[0m\u001b[0;31m:\u001b[0m unexpected indent\n"
          ]
        }
      ],
      "source": [
        "import numpy as np\n",
        "import pandas as pd\n",
        "pd.set_option('max_columns', None)\n",
        "import matplotlib.pyplot as plt\n",
        "import seaborn as sns\n",
        "plt.style.use('ggplot')\n",
        "import datetime\n",
        "from wordcloud import WordCloud\n",
        "data = pd.read_csv('/content/data.csv')\n",
        "fig, ax = plt.subplots(figsize=(16,6))\n",
        "plt.subplot(1, 2, 1)\n",
        "#kde=kernel density estimate\n",
        "sns.distplot(data['revenue'], kde=False);\n",
        "plt.title('Distribution of revenue');\n",
        "\n",
        "plt.subplot(1, 2, 2)\n",
        "#calculate the natural logarithmic value of x+1 where x belongs to all the input array elements.\n",
        "sns.distplot(np.log1p(data['revenue']), kde=False);\n",
        "plt.title('Distribution of log revenue')\n",
        "data['log_revenue'] = np.log1p(data['revenue'])\n",
        "data['log_budget'] = np.log1p(data['budget'])\n",
        "plt.figure(figsize=(16, 8))\n",
        "plt.subplot(1, 2, 1)\n",
        "sns.scatterplot(data['budget'], data['revenue'])\n",
        "plt.title('Revenue vs budget');\n",
        "plt.subplot(1, 2, 2)\n",
        "sns.scatterplot(data['log_budget'], data['log_revenue']) \n",
        "plt.title('log transfromation of revenue vs budget');\n",
        "data.loc[data['homepage'].isnull() == False, 'has_homepage'] = 1\n",
        "data[['homepage','has_homepage']]\n",
        "sns.catplot(x='has_homepage', y='revenue', data=data);\n",
        "plt.title('Revenue for films with and without a homepage');\n",
        "data['log_revenue'] = np.log1p(data['revenue'])\n",
        "data['log_popularity'] = np.log1p(data['popularity'])\n",
        "sns.scatterplot(data['log_popularity'],data['log_revenue'])\n",
        "plt.figure(figsize=(12, 12))\n",
        "text =  ' '.join(data['original_title'].values)\n",
        "wordcloud = WordCloud(max_font_size=None,\n",
        "                     background_color ='white',\n",
        "                     width =1200, height =1000).generate(text)\n",
        "plt.imshow(wordcloud)\n",
        "plt.title('Top words that are used across movie titles')\n",
        "plt.axis('off')\n",
        "plt.show()\n",
        "plt.figure(figsize=(12, 12))\n",
        "text =  ' '.join(data['overview'].fillna('').values)\n",
        "wordcloud = WordCloud(max_font_size=None,\n",
        "                     background_color ='white',\n",
        "                     width =1200, height =1000).generate(text)\n",
        "plt.imshow(wordcloud)\n",
        "plt.title('Top word across movie overviews')\n",
        "plt.axis('off')\n",
        "plt.show()\n",
        "plt.figure(figsize=(12, 12))\n",
        "text =  ' '.join(data['all_genres'].fillna('').values)\n",
        "wordcloud = WordCloud(max_font_size=None,\n",
        "                     background_color ='white',\n",
        "                     width =1200, height =1000).generate(text)\n",
        "plt.imshow(wordcloud)\n",
        "plt.title('Top genres used in the movies')\n",
        "plt.axis('off')\n",
        "plt.show()"
      ]
    }
  ]
}